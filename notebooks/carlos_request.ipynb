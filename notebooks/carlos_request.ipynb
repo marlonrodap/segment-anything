{
 "cells": [
  {
   "cell_type": "code",
   "execution_count": null,
   "metadata": {},
   "outputs": [],
   "source": [
    "import torch\n",
    "import cv2\n",
    "import numpy as np\n",
    "from segment_anything import SamPredictor, sam_model_registry\n",
    "# Load the pre-trained SAM model (choose the appropriate model variant)\n",
    "sam = sam_model_registry[\"vit_h\"](checkpoint=\"../sam_vit_h_4b8939.pth\")\n",
    "sam.to(device=\"cuda\" if torch.cuda.is_available() else \"cpu\")\n",
    "# Initialize the predictor\n",
    "predictor = SamPredictor(sam)\n",
    "# Load the image\n",
    "image = cv2.imread(\"path_to_your_image.jpg\")\n",
    "predictor.set_image(image)\n",
    "# Define a point (x, y) on the object to segment\n",
    "input_point = np.array([[500, 500]])  # Example point coordinates\n",
    "input_label = np.array([1])  # 1 indicates the object, 0 indicates the background\n",
    "# Predict the mask based on the point\n",
    "masks, _, _ = predictor.predict(point_coords=input_point, point_labels=input_label, multimask_output=False)\n",
    "# Extract the first mask\n",
    "mask = masks[0]\n",
    "# Convert mask to binary (0 or 255)\n",
    "binary_mask = (mask * 255).astype(np.uint8)\n",
    "# Find contours (spatial information)\n",
    "contours, _ = cv2.findContours(binary_mask, cv2.RETR_EXTERNAL, cv2.CHAIN_APPROX_SIMPLE)\n",
    "for contour in contours:\n",
    "   # Bounding box\n",
    "   x, y, w, h = cv2.boundingRect(contour)\n",
    "   print(f\"Bounding Box: x={x}, y={y}, width={w}, height={h}\")\n",
    "   # Centroid\n",
    "   M = cv2.moments(contour)\n",
    "   if M[\"m00\"] != 0:\n",
    "       cX = int(M[\"m10\"] / M[\"m00\"])\n",
    "       cY = int(M[\"m01\"] / M[\"m00\"])\n",
    "       print(f\"Centroid: x={cX}, y={cY}\")\n",
    "   # Optionally, draw the contour and bounding box on the original image for visualization\n",
    "   cv2.drawContours(image, [contour], -1, (0, 255, 0), 2)\n",
    "   cv2.rectangle(image, (x, y), (x + w, y + h), (255, 0, 0), 2)\n",
    "# Display the image with spatial information\n",
    "cv2.imshow(\"Image with Spatial Information\", image)\n",
    "cv2.waitKey(0)\n",
    "cv2.destroyAllWindows()\n",
    "# Save the image with drawn contours and bounding boxes (optional)\n",
    "cv2.imwrite(\"output_with_spatial_info.png\", image)"
   ]
  }
 ],
 "metadata": {
  "language_info": {
   "name": "python"
  }
 },
 "nbformat": 4,
 "nbformat_minor": 2
}
